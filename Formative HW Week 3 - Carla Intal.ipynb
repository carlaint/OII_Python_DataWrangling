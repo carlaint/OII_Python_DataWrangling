{
 "cells": [
  {
   "cell_type": "raw",
   "metadata": {},
   "source": [
    "Sudo code for github contributions scraper\n",
    "\n",
    "Step 1  Use Github API to get a list of all users \n",
    "        A little ambitious, so let's stop at 300 for now?\n",
    "Step 2  Match this list to the Github Contributions API\n",
    "        Only get total contribs per year, no need to get other attributes\n",
    "        Merge results from Github API and Github Contribs API into one df\n",
    "Step 3  Perform t-test on the question: are Github commits in 2010 significantly different from 2017?"
   ]
  },
  {
   "cell_type": "code",
   "execution_count": null,
   "metadata": {},
   "outputs": [],
   "source": [
    "import requests\n",
    "import time\n",
    "import pandas as pd\n",
    "from scipy import stats\n",
    "\n",
    "def UserList():\n",
    "    global user_list\n",
    "    for i in range(0,10): #just do the first 300 for demo. my final project will scrape about 1,000,000? Can I do this?\n",
    "        time.sleep(0.2)\n",
    "        user_id=i*30 #because each search result gives you 30.\n",
    "        r = requests.get('https://api.github.com/users?since=%d' %user_id, auth = ('username', 'password'))\n",
    "        if r.status_code == 200:\n",
    "            response_data = r.json()\n",
    "            for num in range(0,30):\n",
    "                user_list.append(response_data[num]['login']) #i only need the login name.\n",
    "\n",
    "def Contrib():\n",
    "    global df\n",
    "    for name in user_list:\n",
    "        time.sleep(0.1)\n",
    "        r = requests.get('https://github-contributions-api.now.sh/v1/'+str(name), auth=('username', 'password'))\n",
    "        contrib_data = r.json()\n",
    "        df_temp = pd.DataFrame(contrib_data['years'])\n",
    "        df_temp['login_name']= name\n",
    "        df = df.append(df_temp, sort=False, ignore_index=True)\n",
    "\n",
    "user_id=0\n",
    "user_list=[]\n",
    "df = pd.DataFrame(columns=['range','total','year','login_name'])\n",
    "UserList()\n",
    "Contrib()\n",
    "\n",
    "# now to do the t-test.\n",
    "grp_2017 = df[df['year'] == '2017']\n",
    "grp_2016 = df[df['year'] == '2016']\n",
    "grp_2010 = df[df['year'] == '2010']\n",
    "pval = stats.ttest_ind(grp_2017['total'],grp_2010['total']).pvalue\n",
    "\n",
    "if pval < 0.05:\n",
    "    print(\"The Github commits in 2017 are significantly different from the commits in 2010. P-value: {:.4f}\".format(pval))\n",
    "else:\n",
    "    print(\"The Github commits in 2017 are not significantly different from the commits in 2010.  P-value: {:.4f}\".format(pval))\n"
   ]
  },
  {
   "cell_type": "markdown",
   "metadata": {},
   "source": []
  },
  {
   "cell_type": "code",
   "execution_count": null,
   "metadata": {},
   "outputs": [],
   "source": []
  }
 ],
 "metadata": {
  "kernelspec": {
   "display_name": "Python 3",
   "language": "python",
   "name": "python3"
  },
  "language_info": {
   "codemirror_mode": {
    "name": "ipython",
    "version": 3
   },
   "file_extension": ".py",
   "mimetype": "text/x-python",
   "name": "python",
   "nbconvert_exporter": "python",
   "pygments_lexer": "ipython3",
   "version": "3.6.4"
  }
 },
 "nbformat": 4,
 "nbformat_minor": 2
}
