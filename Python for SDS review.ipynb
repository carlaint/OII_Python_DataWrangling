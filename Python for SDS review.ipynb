{
 "cells": [
  {
   "cell_type": "code",
   "execution_count": 40,
   "metadata": {},
   "outputs": [],
   "source": [
    "import pandas as pd\n",
    "import numpy as np\n",
    "import matplotlib.pyplot as plt"
   ]
  },
  {
   "cell_type": "markdown",
   "metadata": {},
   "source": [
    "# List"
   ]
  },
  {
   "cell_type": "code",
   "execution_count": 246,
   "metadata": {},
   "outputs": [],
   "source": [
    "#list slicing\n",
    "a = [1,2,4,5,6]\n",
    "b = ['green', 'blue', 'watermelon', 'orange']"
   ]
  },
  {
   "cell_type": "code",
   "execution_count": 5,
   "metadata": {},
   "outputs": [
    {
     "name": "stdout",
     "output_type": "stream",
     "text": [
      "<class 'list'>\n",
      "<class 'list'>\n"
     ]
    }
   ],
   "source": [
    "print(type(a))\n",
    "print(type(b))"
   ]
  },
  {
   "cell_type": "markdown",
   "metadata": {},
   "source": [
    "## Append"
   ]
  },
  {
   "cell_type": "code",
   "execution_count": 248,
   "metadata": {},
   "outputs": [
    {
     "name": "stdout",
     "output_type": "stream",
     "text": [
      "[1, 2, 4, 5, 6, 'red', [3, 4], 3, [3, 4]]\n"
     ]
    }
   ],
   "source": [
    "#list append. No need to recast\n",
    "a.append(3)\n",
    "a.append([3,4])\n",
    "#a.sort()\n",
    "print(a)"
   ]
  },
  {
   "cell_type": "markdown",
   "metadata": {},
   "source": [
    "## Extend"
   ]
  },
  {
   "cell_type": "code",
   "execution_count": 249,
   "metadata": {},
   "outputs": [
    {
     "data": {
      "text/plain": [
       "[1, 2, 4, 5, 6, 'red', [3, 4], 3, [3, 4], 7, 9, 11]"
      ]
     },
     "execution_count": 249,
     "metadata": {},
     "output_type": "execute_result"
    }
   ],
   "source": [
    "a.extend([7,9,11])\n",
    "a"
   ]
  },
  {
   "cell_type": "code",
   "execution_count": 251,
   "metadata": {},
   "outputs": [
    {
     "data": {
      "text/plain": [
       "['green', 'blue', 'watermelon', 'orange', 'r', 'e', 'd', 1, 2, 'red', 1, 2]"
      ]
     },
     "execution_count": 251,
     "metadata": {},
     "output_type": "execute_result"
    }
   ],
   "source": [
    "b.extend('red')\n",
    "b.extend([1,2])\n",
    "b"
   ]
  },
  {
   "cell_type": "code",
   "execution_count": 59,
   "metadata": {},
   "outputs": [
    {
     "data": {
      "text/plain": [
       "[]"
      ]
     },
     "execution_count": 59,
     "metadata": {},
     "output_type": "execute_result"
    }
   ],
   "source": [
    "b.clear()\n",
    "b"
   ]
  },
  {
   "cell_type": "code",
   "execution_count": 33,
   "metadata": {},
   "outputs": [],
   "source": [
    "b = ['green', 'blue', 'watermelon', 'orange']"
   ]
  },
  {
   "cell_type": "markdown",
   "metadata": {},
   "source": [
    "# Sort"
   ]
  },
  {
   "cell_type": "code",
   "execution_count": 38,
   "metadata": {},
   "outputs": [
    {
     "name": "stdout",
     "output_type": "stream",
     "text": [
      "['blue', 'green', 'orange', 'watermelon']\n"
     ]
    }
   ],
   "source": [
    "b.sort(reverse=False)\n",
    "print(b)\n",
    "\n",
    "#couldn't do for a because it's a mixed list"
   ]
  },
  {
   "cell_type": "code",
   "execution_count": 243,
   "metadata": {},
   "outputs": [],
   "source": [
    "b = ['green', 'blue', 'watermelon', 'orange']"
   ]
  },
  {
   "cell_type": "code",
   "execution_count": 244,
   "metadata": {},
   "outputs": [
    {
     "data": {
      "text/plain": [
       "['green', 'watermelon', 'orange']"
      ]
     },
     "execution_count": 244,
     "metadata": {},
     "output_type": "execute_result"
    }
   ],
   "source": [
    "b.remove('blue')\n",
    "b"
   ]
  },
  {
   "cell_type": "markdown",
   "metadata": {},
   "source": [
    "## Pop"
   ]
  },
  {
   "cell_type": "code",
   "execution_count": 245,
   "metadata": {},
   "outputs": [],
   "source": [
    "b = ['green', 'blue', 'watermelon', 'orange']"
   ]
  },
  {
   "cell_type": "code",
   "execution_count": 13,
   "metadata": {},
   "outputs": [
    {
     "name": "stdout",
     "output_type": "stream",
     "text": [
      "When index is not passed:\n",
      "Return Value:  orange\n",
      "Updated List:  ['green', 'blue', 'watermelon']\n"
     ]
    }
   ],
   "source": [
    "# When index is not passed, removing last value\n",
    "print('When index is not passed:') \n",
    "print('Return Value: ', b.pop())\n",
    "print('Updated List: ', b)"
   ]
  },
  {
   "cell_type": "code",
   "execution_count": 15,
   "metadata": {},
   "outputs": [
    {
     "name": "stdout",
     "output_type": "stream",
     "text": [
      "\n",
      "When -1 is passed:\n",
      "Return Value:  orange\n",
      "Updated List:  ['green', 'blue', 'watermelon']\n"
     ]
    }
   ],
   "source": [
    "# When -1 is passed\n",
    "# Pops Last Element\n",
    "print('\\nWhen -1 is passed:') \n",
    "print('Return Value: ', b.pop(-1))\n",
    "print('Updated List: ', b)"
   ]
  },
  {
   "cell_type": "code",
   "execution_count": 17,
   "metadata": {},
   "outputs": [
    {
     "name": "stdout",
     "output_type": "stream",
     "text": [
      "\n",
      "When -3 is passed:\n",
      "Return Value:  blue\n",
      "Updated List:  ['green', 'watermelon', 'orange']\n"
     ]
    }
   ],
   "source": [
    "# When -3 is passed\n",
    "# Pops Third Last Element\n",
    "print('\\nWhen -3 is passed:') \n",
    "print('Return Value: ', b.pop(-3))\n",
    "print('Updated List: ', b)"
   ]
  },
  {
   "cell_type": "markdown",
   "metadata": {},
   "source": [
    "# Del"
   ]
  },
  {
   "cell_type": "code",
   "execution_count": 23,
   "metadata": {},
   "outputs": [
    {
     "name": "stdout",
     "output_type": "stream",
     "text": [
      "['green', 'watermelon', 'orange']\n"
     ]
    }
   ],
   "source": [
    "b.remove('blue')\n",
    "print(b)"
   ]
  },
  {
   "cell_type": "code",
   "execution_count": 26,
   "metadata": {},
   "outputs": [
    {
     "ename": "TypeError",
     "evalue": "'builtin_function_or_method' object is not subscriptable",
     "output_type": "error",
     "traceback": [
      "\u001b[0;31m---------------------------------------------------------------------------\u001b[0m",
      "\u001b[0;31mTypeError\u001b[0m                                 Traceback (most recent call last)",
      "\u001b[0;32m<ipython-input-26-9eb9a0ee209e>\u001b[0m in \u001b[0;36m<module>\u001b[0;34m\u001b[0m\n\u001b[0;32m----> 1\u001b[0;31m \u001b[0mb\u001b[0m\u001b[0;34m.\u001b[0m\u001b[0mremove\u001b[0m\u001b[0;34m[\u001b[0m\u001b[0;36m0\u001b[0m\u001b[0;34m]\u001b[0m\u001b[0;34m\u001b[0m\u001b[0;34m\u001b[0m\u001b[0m\n\u001b[0m\u001b[1;32m      2\u001b[0m \u001b[0mprint\u001b[0m\u001b[0;34m(\u001b[0m\u001b[0mb\u001b[0m\u001b[0;34m)\u001b[0m\u001b[0;34m\u001b[0m\u001b[0;34m\u001b[0m\u001b[0m\n",
      "\u001b[0;31mTypeError\u001b[0m: 'builtin_function_or_method' object is not subscriptable"
     ]
    }
   ],
   "source": [
    "b.remove[0]\n",
    "print(b)"
   ]
  },
  {
   "cell_type": "code",
   "execution_count": 30,
   "metadata": {},
   "outputs": [
    {
     "name": "stdout",
     "output_type": "stream",
     "text": [
      "['watermelon', 'orange']\n"
     ]
    }
   ],
   "source": [
    "#for indexing\n",
    "del b[0:len(b)-2]\n",
    "print(b)"
   ]
  },
  {
   "cell_type": "markdown",
   "metadata": {},
   "source": [
    "# Dictionary"
   ]
  },
  {
   "cell_type": "code",
   "execution_count": 82,
   "metadata": {},
   "outputs": [],
   "source": [
    "dicto = {'fruit': 'apple', 'shape': 'round'}"
   ]
  },
  {
   "cell_type": "code",
   "execution_count": 83,
   "metadata": {},
   "outputs": [
    {
     "data": {
      "text/plain": [
       "{'fruit': 'apple', 'shape': 'long'}"
      ]
     },
     "execution_count": 83,
     "metadata": {},
     "output_type": "execute_result"
    }
   ],
   "source": [
    "dicto[\"shape\"] = \"long\"\n",
    "dicto"
   ]
  },
  {
   "cell_type": "code",
   "execution_count": 84,
   "metadata": {},
   "outputs": [
    {
     "ename": "AttributeError",
     "evalue": "'str' object has no attribute 'append'",
     "output_type": "error",
     "traceback": [
      "\u001b[0;31m---------------------------------------------------------------------------\u001b[0m",
      "\u001b[0;31mAttributeError\u001b[0m                            Traceback (most recent call last)",
      "\u001b[0;32m<ipython-input-84-46e3c27bfa14>\u001b[0m in \u001b[0;36m<module>\u001b[0;34m\u001b[0m\n\u001b[0;32m----> 1\u001b[0;31m \u001b[0mdicto\u001b[0m\u001b[0;34m[\u001b[0m\u001b[0;34m\"shape\"\u001b[0m\u001b[0;34m]\u001b[0m\u001b[0;34m.\u001b[0m\u001b[0mappend\u001b[0m\u001b[0;34m(\u001b[0m\u001b[0;34m[\u001b[0m\u001b[0;34m\"square\"\u001b[0m\u001b[0;34m]\u001b[0m\u001b[0;34m)\u001b[0m\u001b[0;34m\u001b[0m\u001b[0;34m\u001b[0m\u001b[0m\n\u001b[0m\u001b[1;32m      2\u001b[0m \u001b[0mdicto\u001b[0m\u001b[0;34m\u001b[0m\u001b[0;34m\u001b[0m\u001b[0m\n",
      "\u001b[0;31mAttributeError\u001b[0m: 'str' object has no attribute 'append'"
     ]
    }
   ],
   "source": [
    "dicto[\"shape\"].append([\"square\"])\n",
    "dicto"
   ]
  },
  {
   "cell_type": "code",
   "execution_count": 85,
   "metadata": {},
   "outputs": [
    {
     "data": {
      "text/plain": [
       "{'fruit': 'apple', 'shape': ['roundable', 'longable']}"
      ]
     },
     "execution_count": 85,
     "metadata": {},
     "output_type": "execute_result"
    }
   ],
   "source": [
    "dicto[\"shape\"] = [\"roundable\", \"longable\"]\n",
    "dicto"
   ]
  },
  {
   "cell_type": "code",
   "execution_count": 86,
   "metadata": {},
   "outputs": [
    {
     "data": {
      "text/plain": [
       "'longable'"
      ]
     },
     "execution_count": 86,
     "metadata": {},
     "output_type": "execute_result"
    }
   ],
   "source": [
    "dicto[\"shape\"][1]"
   ]
  },
  {
   "cell_type": "code",
   "execution_count": 254,
   "metadata": {},
   "outputs": [],
   "source": [
    "countries = ['greece', 'england', 'italy']\n",
    "cities = ['athens', 'oxford', 'rome']"
   ]
  },
  {
   "cell_type": "code",
   "execution_count": 255,
   "metadata": {},
   "outputs": [
    {
     "name": "stdout",
     "output_type": "stream",
     "text": [
      "[('greece', 'athens'), ('england', 'oxford'), ('italy', 'rome')]\n",
      "{'greece': 'athens', 'england': 'oxford', 'italy': 'rome'}\n"
     ]
    }
   ],
   "source": [
    "a = list(zip(countries, cities))\n",
    "b = dict(zip(countries, cities))\n",
    "print(a)\n",
    "print(b)"
   ]
  },
  {
   "cell_type": "code",
   "execution_count": 259,
   "metadata": {},
   "outputs": [
    {
     "ename": "KeyError",
     "evalue": "0",
     "output_type": "error",
     "traceback": [
      "\u001b[0;31m---------------------------------------------------------------------------\u001b[0m",
      "\u001b[0;31mKeyError\u001b[0m                                  Traceback (most recent call last)",
      "\u001b[0;32m<ipython-input-259-742d64351d3b>\u001b[0m in \u001b[0;36m<module>\u001b[0;34m\u001b[0m\n\u001b[0;32m----> 1\u001b[0;31m \u001b[0mb\u001b[0m\u001b[0;34m[\u001b[0m\u001b[0;36m0\u001b[0m\u001b[0;34m]\u001b[0m\u001b[0;34m[\u001b[0m\u001b[0;36m0\u001b[0m\u001b[0;34m]\u001b[0m\u001b[0;34m\u001b[0m\u001b[0;34m\u001b[0m\u001b[0m\n\u001b[0m",
      "\u001b[0;31mKeyError\u001b[0m: 0"
     ]
    }
   ],
   "source": []
  },
  {
   "cell_type": "code",
   "execution_count": 90,
   "metadata": {},
   "outputs": [
    {
     "name": "stdout",
     "output_type": "stream",
     "text": [
      "0 greece\n",
      "1 england\n",
      "2 italy\n"
     ]
    }
   ],
   "source": [
    "for counter, countries in enumerate(countries):\n",
    "    print(counter, countries)"
   ]
  },
  {
   "cell_type": "markdown",
   "metadata": {},
   "source": [
    "# Dataframe"
   ]
  },
  {
   "cell_type": "code",
   "execution_count": 44,
   "metadata": {},
   "outputs": [
    {
     "name": "stdout",
     "output_type": "stream",
     "text": [
      "(3971, 8)\n"
     ]
    },
    {
     "data": {
      "text/html": [
       "<div>\n",
       "<style scoped>\n",
       "    .dataframe tbody tr th:only-of-type {\n",
       "        vertical-align: middle;\n",
       "    }\n",
       "\n",
       "    .dataframe tbody tr th {\n",
       "        vertical-align: top;\n",
       "    }\n",
       "\n",
       "    .dataframe thead th {\n",
       "        text-align: right;\n",
       "    }\n",
       "</style>\n",
       "<table border=\"1\" class=\"dataframe\">\n",
       "  <thead>\n",
       "    <tr style=\"text-align: right;\">\n",
       "      <th></th>\n",
       "      <th>name</th>\n",
       "      <th>id</th>\n",
       "      <th>party</th>\n",
       "      <th>constituency</th>\n",
       "      <th>twitter_username</th>\n",
       "      <th>facebook_page_url</th>\n",
       "      <th>party_ppc_page_url</th>\n",
       "      <th>gender</th>\n",
       "    </tr>\n",
       "  </thead>\n",
       "  <tbody>\n",
       "    <tr>\n",
       "      <th>0</th>\n",
       "      <td>Captain Beany</td>\n",
       "      <td>20</td>\n",
       "      <td>Independent</td>\n",
       "      <td>Aberavon</td>\n",
       "      <td>captainbeany</td>\n",
       "      <td>https://www.facebook.com/VoteCaptainBeany</td>\n",
       "      <td>NaN</td>\n",
       "      <td>male</td>\n",
       "    </tr>\n",
       "    <tr>\n",
       "      <th>1</th>\n",
       "      <td>Peter Bush</td>\n",
       "      <td>6754</td>\n",
       "      <td>UK Independence Party (UKIP)</td>\n",
       "      <td>Aberavon</td>\n",
       "      <td>NaN</td>\n",
       "      <td>https://www.facebook.com/peterbushukip</td>\n",
       "      <td>NaN</td>\n",
       "      <td>male</td>\n",
       "    </tr>\n",
       "    <tr>\n",
       "      <th>2</th>\n",
       "      <td>Helen Ceri Clarke</td>\n",
       "      <td>4561</td>\n",
       "      <td>Liberal Democrats</td>\n",
       "      <td>Aberavon</td>\n",
       "      <td>NaN</td>\n",
       "      <td>NaN</td>\n",
       "      <td>http://www.libdems.org.uk/helen_ceri_clarke</td>\n",
       "      <td>female</td>\n",
       "    </tr>\n",
       "    <tr>\n",
       "      <th>3</th>\n",
       "      <td>Edward Yi He</td>\n",
       "      <td>5518</td>\n",
       "      <td>Conservative Party</td>\n",
       "      <td>Aberavon</td>\n",
       "      <td>edward4aberavon</td>\n",
       "      <td>https://www.facebook.com/Edward4Aberavon</td>\n",
       "      <td>https://www.conservatives.com/OurTeam/Prospect...</td>\n",
       "      <td>male</td>\n",
       "    </tr>\n",
       "    <tr>\n",
       "      <th>4</th>\n",
       "      <td>Owen Herbert</td>\n",
       "      <td>6520</td>\n",
       "      <td>Trade Unionist and Socialist Coalition</td>\n",
       "      <td>Aberavon</td>\n",
       "      <td>NaN</td>\n",
       "      <td>https://www.facebook.com/tuscowenherbert</td>\n",
       "      <td>http://tusc2015.com/owen-herbert-for-aberavon2/</td>\n",
       "      <td>male</td>\n",
       "    </tr>\n",
       "  </tbody>\n",
       "</table>\n",
       "</div>"
      ],
      "text/plain": [
       "                name    id                                   party  \\\n",
       "0      Captain Beany    20                             Independent   \n",
       "1         Peter Bush  6754            UK Independence Party (UKIP)   \n",
       "2  Helen Ceri Clarke  4561                       Liberal Democrats   \n",
       "3       Edward Yi He  5518                      Conservative Party   \n",
       "4       Owen Herbert  6520  Trade Unionist and Socialist Coalition   \n",
       "\n",
       "  constituency twitter_username                          facebook_page_url  \\\n",
       "0     Aberavon     captainbeany  https://www.facebook.com/VoteCaptainBeany   \n",
       "1     Aberavon              NaN     https://www.facebook.com/peterbushukip   \n",
       "2     Aberavon              NaN                                        NaN   \n",
       "3     Aberavon  edward4aberavon   https://www.facebook.com/Edward4Aberavon   \n",
       "4     Aberavon              NaN   https://www.facebook.com/tuscowenherbert   \n",
       "\n",
       "                                  party_ppc_page_url  gender  \n",
       "0                                                NaN    male  \n",
       "1                                                NaN    male  \n",
       "2        http://www.libdems.org.uk/helen_ceri_clarke  female  \n",
       "3  https://www.conservatives.com/OurTeam/Prospect...    male  \n",
       "4    http://tusc2015.com/owen-herbert-for-aberavon2/    male  "
      ]
     },
     "execution_count": 44,
     "metadata": {},
     "output_type": "execute_result"
    }
   ],
   "source": [
    "df = pd.read_csv(\"PySDS_PolCandidates.csv\")\n",
    "print(df.shape)\n",
    "df.head()"
   ]
  },
  {
   "cell_type": "code",
   "execution_count": 54,
   "metadata": {},
   "outputs": [
    {
     "name": "stdout",
     "output_type": "stream",
     "text": [
      "Captain Beany\n",
      "Peter Bush\n",
      "Helen Ceri Clarke\n",
      "Edward Yi He\n",
      "Owen Herbert\n",
      "Duncan Higgitt\n",
      "Andrew Jordan\n",
      "Stephen Kinnock\n",
      "Jonathan Tier\n",
      "Victor Babu\n",
      "Guto Bebb\n"
     ]
    }
   ],
   "source": [
    "# loops\n",
    "for a in range(0,len(df['name'])-3960):\n",
    "    print (df['name'][a])"
   ]
  },
  {
   "cell_type": "code",
   "execution_count": 77,
   "metadata": {},
   "outputs": [],
   "source": [
    "#loc and iloc"
   ]
  },
  {
   "cell_type": "code",
   "execution_count": 91,
   "metadata": {},
   "outputs": [
    {
     "name": "stdout",
     "output_type": "stream",
     "text": [
      "Number is 1\n",
      "Number is 2\n",
      "Number is 3\n",
      "Number is 4\n",
      "Out of loop\n"
     ]
    }
   ],
   "source": [
    "#break, continue, pass\n",
    "number = 0\n",
    "\n",
    "for number in range(10):\n",
    "    number = number + 1\n",
    "\n",
    "    if number == 5:\n",
    "        break    # break here\n",
    "\n",
    "    print('Number is ' + str(number))\n",
    "\n",
    "print('Out of loop')"
   ]
  },
  {
   "cell_type": "code",
   "execution_count": 92,
   "metadata": {},
   "outputs": [
    {
     "name": "stdout",
     "output_type": "stream",
     "text": [
      "Number is 1\n",
      "Number is 2\n",
      "Number is 3\n",
      "Number is 4\n",
      "Number is 6\n",
      "Number is 7\n",
      "Number is 8\n",
      "Number is 9\n",
      "Number is 10\n",
      "Out of loop\n"
     ]
    }
   ],
   "source": [
    "number = 0\n",
    "\n",
    "for number in range(10):\n",
    "    number = number + 1\n",
    "\n",
    "    if number == 5:\n",
    "        continue    # continue here\n",
    "        \n",
    "    print('Number is ' + str(number))\n",
    "\n",
    "print('Out of loop')"
   ]
  },
  {
   "cell_type": "code",
   "execution_count": 93,
   "metadata": {},
   "outputs": [
    {
     "name": "stdout",
     "output_type": "stream",
     "text": [
      "Number is 1\n",
      "Number is 2\n",
      "Number is 3\n",
      "Number is 4\n",
      "Number is 5\n",
      "Number is 6\n",
      "Number is 7\n",
      "Number is 8\n",
      "Number is 9\n",
      "Number is 10\n",
      "Out of loop\n"
     ]
    }
   ],
   "source": [
    "number = 0\n",
    "\n",
    "for number in range(10):\n",
    "    number = number + 1\n",
    "\n",
    "    if number == 5:\n",
    "        pass    # pass here\n",
    "    \n",
    "    print('Number is ' + str(number))\n",
    "\n",
    "print('Out of loop')"
   ]
  },
  {
   "cell_type": "code",
   "execution_count": 163,
   "metadata": {},
   "outputs": [
    {
     "name": "stdout",
     "output_type": "stream",
     "text": [
      "0                             Captain Beany\n",
      "1                                Peter Bush\n",
      "2                         Helen Ceri Clarke\n",
      "3                              Edward Yi He\n",
      "4                              Owen Herbert\n",
      "0                               Independent\n",
      "1              UK Independence Party (UKIP)\n",
      "2                         Liberal Democrats\n",
      "3                        Conservative Party\n",
      "4    Trade Unionist and Socialist Coalition\n",
      "5          Plaid Cymru - The Party of Wales\n",
      "6                    Socialist Labour Party\n",
      "7                              Labour Party\n",
      "8                               Green Party\n",
      "9                         Liberal Democrats\n",
      "dtype: object\n",
      "<class 'pandas.core.series.Series'>\n",
      "                name                                   party\n",
      "0      Captain Beany                             Independent\n",
      "1         Peter Bush            UK Independence Party (UKIP)\n",
      "2  Helen Ceri Clarke                       Liberal Democrats\n",
      "3       Edward Yi He                      Conservative Party\n",
      "4       Owen Herbert  Trade Unionist and Socialist Coalition\n",
      "5                NaN        Plaid Cymru - The Party of Wales\n",
      "6                NaN                  Socialist Labour Party\n",
      "7                NaN                            Labour Party\n",
      "8                NaN                             Green Party\n",
      "9                NaN                       Liberal Democrats\n"
     ]
    }
   ],
   "source": [
    "# concat and append\n",
    "df1 = df['name'][0:5]\n",
    "df2 = df['party'][0:10]\n",
    "\n",
    "print(pd.concat([df1, df2]))\n",
    "print(type(df1))\n",
    "print(pd.concat([df1, df2], axis=1)) #axis=0 is same as above"
   ]
  },
  {
   "cell_type": "code",
   "execution_count": 141,
   "metadata": {},
   "outputs": [
    {
     "name": "stdout",
     "output_type": "stream",
     "text": [
      "0                             Captain Beany\n",
      "1                                Peter Bush\n",
      "2                         Helen Ceri Clarke\n",
      "3                              Edward Yi He\n",
      "4                              Owen Herbert\n",
      "0                               Independent\n",
      "1              UK Independence Party (UKIP)\n",
      "2                         Liberal Democrats\n",
      "3                        Conservative Party\n",
      "4    Trade Unionist and Socialist Coalition\n",
      "5          Plaid Cymru - The Party of Wales\n",
      "6                    Socialist Labour Party\n",
      "7                              Labour Party\n",
      "8                               Green Party\n",
      "9                         Liberal Democrats\n",
      "dtype: object\n"
     ]
    }
   ],
   "source": [
    "print(df1.append(df2))"
   ]
  },
  {
   "cell_type": "code",
   "execution_count": 166,
   "metadata": {},
   "outputs": [
    {
     "data": {
      "text/html": [
       "<div>\n",
       "<style scoped>\n",
       "    .dataframe tbody tr th:only-of-type {\n",
       "        vertical-align: middle;\n",
       "    }\n",
       "\n",
       "    .dataframe tbody tr th {\n",
       "        vertical-align: top;\n",
       "    }\n",
       "\n",
       "    .dataframe thead th {\n",
       "        text-align: right;\n",
       "    }\n",
       "</style>\n",
       "<table border=\"1\" class=\"dataframe\">\n",
       "  <thead>\n",
       "    <tr style=\"text-align: right;\">\n",
       "      <th></th>\n",
       "      <th>name</th>\n",
       "      <th>party</th>\n",
       "    </tr>\n",
       "  </thead>\n",
       "  <tbody>\n",
       "    <tr>\n",
       "      <th>0</th>\n",
       "      <td>Captain Beany</td>\n",
       "      <td>Independent</td>\n",
       "    </tr>\n",
       "    <tr>\n",
       "      <th>1</th>\n",
       "      <td>Peter Bush</td>\n",
       "      <td>UK Independence Party (UKIP)</td>\n",
       "    </tr>\n",
       "    <tr>\n",
       "      <th>2</th>\n",
       "      <td>Helen Ceri Clarke</td>\n",
       "      <td>Liberal Democrats</td>\n",
       "    </tr>\n",
       "    <tr>\n",
       "      <th>3</th>\n",
       "      <td>Edward Yi He</td>\n",
       "      <td>Conservative Party</td>\n",
       "    </tr>\n",
       "    <tr>\n",
       "      <th>4</th>\n",
       "      <td>Owen Herbert</td>\n",
       "      <td>Trade Unionist and Socialist Coalition</td>\n",
       "    </tr>\n",
       "  </tbody>\n",
       "</table>\n",
       "</div>"
      ],
      "text/plain": [
       "                name                                   party\n",
       "0      Captain Beany                             Independent\n",
       "1         Peter Bush            UK Independence Party (UKIP)\n",
       "2  Helen Ceri Clarke                       Liberal Democrats\n",
       "3       Edward Yi He                      Conservative Party\n",
       "4       Owen Herbert  Trade Unionist and Socialist Coalition"
      ]
     },
     "execution_count": 166,
     "metadata": {},
     "output_type": "execute_result"
    }
   ],
   "source": [
    "# merge is a one to one join\n",
    "df1 = df[['name']][0:5]\n",
    "df2 = df[['name','party']][0:15]\n",
    "\n",
    "df3 = pd.merge(df1, df2)\n",
    "type(df1)\n",
    "df3"
   ]
  },
  {
   "cell_type": "code",
   "execution_count": 188,
   "metadata": {},
   "outputs": [
    {
     "name": "stdout",
     "output_type": "stream",
     "text": [
      "                 name                                   party\n",
      "0       Captain Beany                             Independent\n",
      "1          Peter Bush            UK Independence Party (UKIP)\n",
      "2   Helen Ceri Clarke                       Liberal Democrats\n",
      "3        Edward Yi He                      Conservative Party\n",
      "4        Owen Herbert  Trade Unionist and Socialist Coalition\n",
      "5      Duncan Higgitt        Plaid Cymru - The Party of Wales\n",
      "6       Andrew Jordan                  Socialist Labour Party\n",
      "7     Stephen Kinnock                            Labour Party\n",
      "8       Jonathan Tier                             Green Party\n",
      "9         Victor Babu                       Liberal Democrats\n",
      "10          Guto Bebb                      Conservative Party\n",
      "11         Petra Haig                             Green Party\n",
      "12       Andrew Haigh            UK Independence Party (UKIP)\n",
      "13      Dafydd Meurig        Plaid Cymru - The Party of Wales\n",
      "14       Mary Wimbury                            Labour Party\n",
      "\n",
      "merging without on\n",
      "                name                         party             bisor\n",
      "0         Peter Bush  UK Independence Party (UKIP)  UK IP supervisor\n",
      "1       Andrew Haigh  UK Independence Party (UKIP)  UK IP supervisor\n",
      "2  Helen Ceri Clarke             Liberal Democrats     LD supervisor\n",
      "3        Victor Babu             Liberal Democrats     LD supervisor\n",
      "4       Edward Yi He            Conservative Party   Cons Supervisor\n",
      "5          Guto Bebb            Conservative Party   Cons Supervisor\n",
      "6      Andrew Jordan        Socialist Labour Party    SLP Supervisor\n",
      "\n",
      "merging with on\n",
      "                name                         party             bisor\n",
      "0         Peter Bush  UK Independence Party (UKIP)  UK IP supervisor\n",
      "1       Andrew Haigh  UK Independence Party (UKIP)  UK IP supervisor\n",
      "2  Helen Ceri Clarke             Liberal Democrats     LD supervisor\n",
      "3        Victor Babu             Liberal Democrats     LD supervisor\n",
      "4       Edward Yi He            Conservative Party   Cons Supervisor\n",
      "5          Guto Bebb            Conservative Party   Cons Supervisor\n",
      "6      Andrew Jordan        Socialist Labour Party    SLP Supervisor\n",
      "\n",
      "merging with left and right:\n"
     ]
    },
    {
     "data": {
      "text/html": [
       "<div>\n",
       "<style scoped>\n",
       "    .dataframe tbody tr th:only-of-type {\n",
       "        vertical-align: middle;\n",
       "    }\n",
       "\n",
       "    .dataframe tbody tr th {\n",
       "        vertical-align: top;\n",
       "    }\n",
       "\n",
       "    .dataframe thead th {\n",
       "        text-align: right;\n",
       "    }\n",
       "</style>\n",
       "<table border=\"1\" class=\"dataframe\">\n",
       "  <thead>\n",
       "    <tr style=\"text-align: right;\">\n",
       "      <th></th>\n",
       "      <th>name</th>\n",
       "      <th>party</th>\n",
       "      <th>partida</th>\n",
       "      <th>bisor</th>\n",
       "    </tr>\n",
       "  </thead>\n",
       "  <tbody>\n",
       "    <tr>\n",
       "      <th>0</th>\n",
       "      <td>Peter Bush</td>\n",
       "      <td>UK Independence Party (UKIP)</td>\n",
       "      <td>UK Independence Party (UKIP)</td>\n",
       "      <td>UK IP supervisor</td>\n",
       "    </tr>\n",
       "    <tr>\n",
       "      <th>1</th>\n",
       "      <td>Andrew Haigh</td>\n",
       "      <td>UK Independence Party (UKIP)</td>\n",
       "      <td>UK Independence Party (UKIP)</td>\n",
       "      <td>UK IP supervisor</td>\n",
       "    </tr>\n",
       "    <tr>\n",
       "      <th>2</th>\n",
       "      <td>Helen Ceri Clarke</td>\n",
       "      <td>Liberal Democrats</td>\n",
       "      <td>Liberal Democrats</td>\n",
       "      <td>LD supervisor</td>\n",
       "    </tr>\n",
       "    <tr>\n",
       "      <th>3</th>\n",
       "      <td>Victor Babu</td>\n",
       "      <td>Liberal Democrats</td>\n",
       "      <td>Liberal Democrats</td>\n",
       "      <td>LD supervisor</td>\n",
       "    </tr>\n",
       "    <tr>\n",
       "      <th>4</th>\n",
       "      <td>Edward Yi He</td>\n",
       "      <td>Conservative Party</td>\n",
       "      <td>Conservative Party</td>\n",
       "      <td>Cons Supervisor</td>\n",
       "    </tr>\n",
       "    <tr>\n",
       "      <th>5</th>\n",
       "      <td>Guto Bebb</td>\n",
       "      <td>Conservative Party</td>\n",
       "      <td>Conservative Party</td>\n",
       "      <td>Cons Supervisor</td>\n",
       "    </tr>\n",
       "    <tr>\n",
       "      <th>6</th>\n",
       "      <td>Andrew Jordan</td>\n",
       "      <td>Socialist Labour Party</td>\n",
       "      <td>Socialist Labour Party</td>\n",
       "      <td>SLP Supervisor</td>\n",
       "    </tr>\n",
       "  </tbody>\n",
       "</table>\n",
       "</div>"
      ],
      "text/plain": [
       "                name                         party  \\\n",
       "0         Peter Bush  UK Independence Party (UKIP)   \n",
       "1       Andrew Haigh  UK Independence Party (UKIP)   \n",
       "2  Helen Ceri Clarke             Liberal Democrats   \n",
       "3        Victor Babu             Liberal Democrats   \n",
       "4       Edward Yi He            Conservative Party   \n",
       "5          Guto Bebb            Conservative Party   \n",
       "6      Andrew Jordan        Socialist Labour Party   \n",
       "\n",
       "                        partida             bisor  \n",
       "0  UK Independence Party (UKIP)  UK IP supervisor  \n",
       "1  UK Independence Party (UKIP)  UK IP supervisor  \n",
       "2             Liberal Democrats     LD supervisor  \n",
       "3             Liberal Democrats     LD supervisor  \n",
       "4            Conservative Party   Cons Supervisor  \n",
       "5            Conservative Party   Cons Supervisor  \n",
       "6        Socialist Labour Party    SLP Supervisor  "
      ]
     },
     "execution_count": 188,
     "metadata": {},
     "output_type": "execute_result"
    }
   ],
   "source": [
    "# many to one join\n",
    "partylist = ['UK Independence Party (UKIP)','Liberal Democrats','Conservative Party','Socialist Labour Party']                 \n",
    "partyda = ['UK Independence Party (UKIP)','Liberal Democrats','Conservative Party','Socialist Labour Party']                 \n",
    "\n",
    "supervisor = ['UK IP supervisor', 'LD supervisor', 'Cons Supervisor', 'SLP Supervisor']\n",
    "\n",
    "print(df2)\n",
    "\n",
    "df4 = pd.DataFrame({'party': partylist, 'bisor': supervisor})\n",
    "df4a = pd.DataFrame({'partida': partyda, 'bisor': supervisor})\n",
    "\n",
    "print('\\nmerging without on')\n",
    "df5 = pd.merge(df2, df4)\n",
    "print(df5)\n",
    "\n",
    "print('\\nmerging with on')\n",
    "df6 = pd.merge(df2, df4, on=\"party\")\n",
    "print(df6)\n",
    "\n",
    "print('\\nmerging with left and right:')\n",
    "df7 = pd.merge(df2, df4a, left_on=\"party\", right_on=\"partida\")\n",
    "df7"
   ]
  },
  {
   "cell_type": "code",
   "execution_count": 71,
   "metadata": {},
   "outputs": [
    {
     "data": {
      "text/plain": [
       "constituency  party             \n",
       "Aberavon      Conservative Party    1\n",
       "              Green Party           1\n",
       "              Independent           1\n",
       "              Labour Party          1\n",
       "              Liberal Democrats     1\n",
       "Name: party, dtype: int64"
      ]
     },
     "execution_count": 71,
     "metadata": {},
     "output_type": "execute_result"
    }
   ],
   "source": [
    "# groupby\n",
    "df.groupby('constituency').party.value_counts().head()"
   ]
  },
  {
   "cell_type": "code",
   "execution_count": 79,
   "metadata": {},
   "outputs": [
    {
     "data": {
      "text/html": [
       "<div>\n",
       "<style scoped>\n",
       "    .dataframe tbody tr th:only-of-type {\n",
       "        vertical-align: middle;\n",
       "    }\n",
       "\n",
       "    .dataframe tbody tr th {\n",
       "        vertical-align: top;\n",
       "    }\n",
       "\n",
       "    .dataframe thead th {\n",
       "        text-align: right;\n",
       "    }\n",
       "</style>\n",
       "<table border=\"1\" class=\"dataframe\">\n",
       "  <thead>\n",
       "    <tr style=\"text-align: right;\">\n",
       "      <th></th>\n",
       "      <th>id</th>\n",
       "    </tr>\n",
       "    <tr>\n",
       "      <th>constituency</th>\n",
       "      <th></th>\n",
       "    </tr>\n",
       "  </thead>\n",
       "  <tbody>\n",
       "    <tr>\n",
       "      <th>Aberavon</th>\n",
       "      <td>4920.333333</td>\n",
       "    </tr>\n",
       "    <tr>\n",
       "      <th>Aberconwy</th>\n",
       "      <td>4630.833333</td>\n",
       "    </tr>\n",
       "    <tr>\n",
       "      <th>Aberdeen North</th>\n",
       "      <td>5928.333333</td>\n",
       "    </tr>\n",
       "    <tr>\n",
       "      <th>Aberdeen South</th>\n",
       "      <td>5243.857143</td>\n",
       "    </tr>\n",
       "    <tr>\n",
       "      <th>Airdrie and Shotts</th>\n",
       "      <td>5310.333333</td>\n",
       "    </tr>\n",
       "  </tbody>\n",
       "</table>\n",
       "</div>"
      ],
      "text/plain": [
       "                             id\n",
       "constituency                   \n",
       "Aberavon            4920.333333\n",
       "Aberconwy           4630.833333\n",
       "Aberdeen North      5928.333333\n",
       "Aberdeen South      5243.857143\n",
       "Airdrie and Shotts  5310.333333"
      ]
     },
     "execution_count": 79,
     "metadata": {},
     "output_type": "execute_result"
    }
   ],
   "source": [
    "df.groupby('constituency').mean().head()"
   ]
  },
  {
   "cell_type": "code",
   "execution_count": 198,
   "metadata": {},
   "outputs": [
    {
     "data": {
      "text/html": [
       "<div>\n",
       "<style scoped>\n",
       "    .dataframe tbody tr th:only-of-type {\n",
       "        vertical-align: middle;\n",
       "    }\n",
       "\n",
       "    .dataframe tbody tr th {\n",
       "        vertical-align: top;\n",
       "    }\n",
       "\n",
       "    .dataframe thead th {\n",
       "        text-align: right;\n",
       "    }\n",
       "</style>\n",
       "<table border=\"1\" class=\"dataframe\">\n",
       "  <thead>\n",
       "    <tr style=\"text-align: right;\">\n",
       "      <th></th>\n",
       "      <th>name</th>\n",
       "      <th>indix</th>\n",
       "    </tr>\n",
       "  </thead>\n",
       "  <tbody>\n",
       "    <tr>\n",
       "      <th>0</th>\n",
       "      <td>Captain Beany</td>\n",
       "      <td>cap</td>\n",
       "    </tr>\n",
       "    <tr>\n",
       "      <th>1</th>\n",
       "      <td>Peter Bush</td>\n",
       "      <td>bus</td>\n",
       "    </tr>\n",
       "    <tr>\n",
       "      <th>2</th>\n",
       "      <td>Helen Ceri Clarke</td>\n",
       "      <td>4</td>\n",
       "    </tr>\n",
       "    <tr>\n",
       "      <th>3</th>\n",
       "      <td>Edward Yi He</td>\n",
       "      <td>5</td>\n",
       "    </tr>\n",
       "    <tr>\n",
       "      <th>4</th>\n",
       "      <td>Owen Herbert</td>\n",
       "      <td>her</td>\n",
       "    </tr>\n",
       "  </tbody>\n",
       "</table>\n",
       "</div>"
      ],
      "text/plain": [
       "                name indix\n",
       "0      Captain Beany   cap\n",
       "1         Peter Bush   bus\n",
       "2  Helen Ceri Clarke     4\n",
       "3       Edward Yi He     5\n",
       "4       Owen Herbert   her"
      ]
     },
     "execution_count": 198,
     "metadata": {},
     "output_type": "execute_result"
    }
   ],
   "source": [
    "# adding a series\n",
    "\n",
    "df8 = pd.Series(['cap','bus',4,5,'her'])\n",
    "df1['indix']=df8\n",
    "\n",
    "df1"
   ]
  },
  {
   "cell_type": "code",
   "execution_count": 238,
   "metadata": {},
   "outputs": [
    {
     "data": {
      "text/plain": [
       "0    Ind\n",
       "1    UK \n",
       "2    Lib\n",
       "3    Con\n",
       "4    Tra\n",
       "Name: party, dtype: object"
      ]
     },
     "execution_count": 238,
     "metadata": {},
     "output_type": "execute_result"
    }
   ],
   "source": [
    "# map and lambda\n",
    "short = df['party'].map(lambda x: x[0:3])\n",
    "short.head()"
   ]
  },
  {
   "cell_type": "code",
   "execution_count": 81,
   "metadata": {},
   "outputs": [
    {
     "data": {
      "text/plain": [
       "Conservative Party              631\n",
       "Liberal Democrats               631\n",
       "UK Independence Party (UKIP)    614\n",
       "Labour Party                    589\n",
       "Green Party                     542\n",
       "Name: party, dtype: int64"
      ]
     },
     "execution_count": 81,
     "metadata": {},
     "output_type": "execute_result"
    }
   ],
   "source": [
    "# value counts\n",
    "df['party'].value_counts().head()"
   ]
  },
  {
   "cell_type": "code",
   "execution_count": 227,
   "metadata": {},
   "outputs": [
    {
     "data": {
      "text/html": [
       "<div>\n",
       "<style scoped>\n",
       "    .dataframe tbody tr th:only-of-type {\n",
       "        vertical-align: middle;\n",
       "    }\n",
       "\n",
       "    .dataframe tbody tr th {\n",
       "        vertical-align: top;\n",
       "    }\n",
       "\n",
       "    .dataframe thead th {\n",
       "        text-align: right;\n",
       "    }\n",
       "</style>\n",
       "<table border=\"1\" class=\"dataframe\">\n",
       "  <thead>\n",
       "    <tr style=\"text-align: right;\">\n",
       "      <th></th>\n",
       "      <th>name</th>\n",
       "      <th>id</th>\n",
       "    </tr>\n",
       "  </thead>\n",
       "  <tbody>\n",
       "    <tr>\n",
       "      <th>1</th>\n",
       "      <td>Peter Bush</td>\n",
       "      <td>6754</td>\n",
       "    </tr>\n",
       "    <tr>\n",
       "      <th>12</th>\n",
       "      <td>Andrew Haigh</td>\n",
       "      <td>5569</td>\n",
       "    </tr>\n",
       "    <tr>\n",
       "      <th>34</th>\n",
       "      <td>Carl Hewitt</td>\n",
       "      <td>6333</td>\n",
       "    </tr>\n",
       "  </tbody>\n",
       "</table>\n",
       "</div>"
      ],
      "text/plain": [
       "            name    id\n",
       "1     Peter Bush  6754\n",
       "12  Andrew Haigh  5569\n",
       "34   Carl Hewitt  6333"
      ]
     },
     "execution_count": 227,
     "metadata": {},
     "output_type": "execute_result"
    }
   ],
   "source": [
    "#loc and iloc\n",
    "df.loc[2:4,['name','id']]\n",
    "df.loc[[1,12,34],['name','id']]"
   ]
  },
  {
   "cell_type": "code",
   "execution_count": 229,
   "metadata": {},
   "outputs": [
    {
     "name": "stdout",
     "output_type": "stream",
     "text": [
      "Index(['name', 'id', 'party', 'constituency', 'twitter_username',\n",
      "       'facebook_page_url', 'party_ppc_page_url', 'gender'],\n",
      "      dtype='object')\n"
     ]
    },
    {
     "data": {
      "text/html": [
       "<div>\n",
       "<style scoped>\n",
       "    .dataframe tbody tr th:only-of-type {\n",
       "        vertical-align: middle;\n",
       "    }\n",
       "\n",
       "    .dataframe tbody tr th {\n",
       "        vertical-align: top;\n",
       "    }\n",
       "\n",
       "    .dataframe thead th {\n",
       "        text-align: right;\n",
       "    }\n",
       "</style>\n",
       "<table border=\"1\" class=\"dataframe\">\n",
       "  <thead>\n",
       "    <tr style=\"text-align: right;\">\n",
       "      <th></th>\n",
       "      <th>name</th>\n",
       "      <th>id</th>\n",
       "      <th>party</th>\n",
       "    </tr>\n",
       "  </thead>\n",
       "  <tbody>\n",
       "    <tr>\n",
       "      <th>1</th>\n",
       "      <td>Peter Bush</td>\n",
       "      <td>6754</td>\n",
       "      <td>UK Independence Party (UKIP)</td>\n",
       "    </tr>\n",
       "    <tr>\n",
       "      <th>12</th>\n",
       "      <td>Andrew Haigh</td>\n",
       "      <td>5569</td>\n",
       "      <td>UK Independence Party (UKIP)</td>\n",
       "    </tr>\n",
       "    <tr>\n",
       "      <th>34</th>\n",
       "      <td>Carl Hewitt</td>\n",
       "      <td>6333</td>\n",
       "      <td>Green Party</td>\n",
       "    </tr>\n",
       "  </tbody>\n",
       "</table>\n",
       "</div>"
      ],
      "text/plain": [
       "            name    id                         party\n",
       "1     Peter Bush  6754  UK Independence Party (UKIP)\n",
       "12  Andrew Haigh  5569  UK Independence Party (UKIP)\n",
       "34   Carl Hewitt  6333                   Green Party"
      ]
     },
     "execution_count": 229,
     "metadata": {},
     "output_type": "execute_result"
    }
   ],
   "source": [
    "print(df.columns)\n",
    "df.iloc[[1,12,34],[0,1,2]]"
   ]
  },
  {
   "cell_type": "code",
   "execution_count": null,
   "metadata": {},
   "outputs": [],
   "source": []
  },
  {
   "cell_type": "code",
   "execution_count": null,
   "metadata": {},
   "outputs": [],
   "source": []
  }
 ],
 "metadata": {
  "kernelspec": {
   "display_name": "Python 3",
   "language": "python",
   "name": "python3"
  },
  "language_info": {
   "codemirror_mode": {
    "name": "ipython",
    "version": 3
   },
   "file_extension": ".py",
   "mimetype": "text/x-python",
   "name": "python",
   "nbconvert_exporter": "python",
   "pygments_lexer": "ipython3",
   "version": "3.6.7"
  }
 },
 "nbformat": 4,
 "nbformat_minor": 2
}
