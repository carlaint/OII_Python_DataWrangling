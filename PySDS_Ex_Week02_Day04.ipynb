{
 "cells": [
  {
   "cell_type": "markdown",
   "metadata": {},
   "source": [
    "**PySDS Week 02 Day 04 v.1 - Friday Formative - Merging DataFrames**"
   ]
  },
  {
   "cell_type": "markdown",
   "metadata": {},
   "source": [
    "# Exercise 1. Merging and reporting on data\n",
    "\n",
    "Recall that we have a table called PySDS_PolCandidates.csv. This table has a list of candidates with Twitter accounts. We also now have a database of tweets captured on the 5th and 6th of May, 2015 by British Politicians. The expanded dataset includes the set of tweets as replies to these politicians, but that is not being used here."
   ]
  },
  {
   "cell_type": "code",
   "execution_count": 1,
   "metadata": {},
   "outputs": [
    {
     "name": "stdout",
     "output_type": "stream",
     "text": [
      "Before filtering there were 19900 Tweets and 2106 accounts. \n",
      "After filtering there were 16417 Tweets and 1739 accounts.\n"
     ]
    }
   ],
   "source": [
    "# Question 1.1: There are accounts in the roottweets database that are \n",
    "# not in the PolCandidates list and vice versa. \n",
    "# Filter the roottweets table / dataframe down to only the candidates \n",
    "# in the PolCandidates table. Then enter the values in the sentence below. \n",
    "\n",
    "import pandas as pd\n",
    "import sqlite3\n",
    "\n",
    "csv_df = pd.read_csv(\"PySDS_PolCandidates.csv\")\n",
    "sql_df = pd.read_sql(\"select * from roottweets\",sqlite3.connect(\"PySDS_ElectionData_2015_may5-6.db\"))\n",
    "\n",
    "######################################\n",
    "# Answer Below Here \n",
    "\n",
    "before_tweets = len(sql_df.text.value_counts())\n",
    "before_accounts = len(sql_df.username.value_counts()) \n",
    "\n",
    "#merging.\n",
    "\n",
    "sql_df.rename(columns={\"username\":\"twitter_username\"}, inplace=True)\n",
    "after_df = pd.merge(csv_df, sql_df, on=\"twitter_username\")\n",
    "after_tweets = len(after_df.text.value_counts())\n",
    "after_accounts = len(after_df.twitter_username.value_counts())\n",
    "\n",
    "print( \"Before filtering there were %s Tweets and %s accounts.\" % (before_tweets, before_accounts),\n",
    "      \"\\nAfter filtering there were %s Tweets and %s accounts.\" % (after_tweets,after_accounts)\n",
    "     )"
   ]
  },
  {
   "cell_type": "code",
   "execution_count": 2,
   "metadata": {},
   "outputs": [
    {
     "data": {
      "text/plain": [
       "HOWnotWHO         276\n",
       "RogTallbloke      179\n",
       "Emmett_Jenner     163\n",
       "MarkFlanaganAB    133\n",
       "johnnymercer81    128\n",
       "Name: twitter_username, dtype: int64"
      ]
     },
     "execution_count": 2,
     "metadata": {},
     "output_type": "execute_result"
    }
   ],
   "source": [
    "#len(csv_df.text.value_counts())\n",
    "after_df.twitter_username.value_counts().head()"
   ]
  },
  {
   "cell_type": "code",
   "execution_count": 3,
   "metadata": {},
   "outputs": [
    {
     "data": {
      "text/plain": [
       "'\\n\\n'"
      ]
     },
     "execution_count": 3,
     "metadata": {},
     "output_type": "execute_result"
    }
   ],
   "source": [
    "#####################################\n",
    "# Question 1.1\n",
    "# TA comments below here \n",
    "\n",
    "# ___ / 5. \n",
    "# Comments:\n",
    "'''\n",
    "\n",
    "'''\n"
   ]
  },
  {
   "cell_type": "code",
   "execution_count": 3,
   "metadata": {},
   "outputs": [
    {
     "name": "stdout",
     "output_type": "stream",
     "text": [
      "The 334 candidates from the Conservative party sent 2243 root tweets. The top tweeter was johnnymercer81 with 128 tweets\n",
      "The 380 candidates from the Labour party sent 3731 root tweets. The top tweeter was horatioharry with 82 tweets\n"
     ]
    }
   ],
   "source": [
    "# Question 1.2: Using the newly filtered table, merge in the candidates' political \n",
    "# party from PolCandidates. Use this to enter values in the sentence below. \n",
    "\n",
    "######################################\n",
    "# Answer Below Here \n",
    "\n",
    "\n",
    "conservative_candidates_count = len(after_df[after_df['party'] == 'Conservative Party'].twitter_username.unique())\n",
    "conservative_tweets_count = after_df[after_df['party'] == 'Conservative Party'].shape[0]\n",
    "top_con_tweeter = after_df[after_df['party'] == 'Conservative Party'].twitter_username.value_counts()[0:1].index[0]\n",
    "top_con_tweet_count = after_df[after_df['party'] == 'Conservative Party'].twitter_username.value_counts()[0]\n",
    "\n",
    "\n",
    "labour_candidates_count = len(after_df[after_df['party'] == 'Labour Party'].twitter_username.unique())\n",
    "labour_tweets_count = after_df[after_df['party'] == 'Labour Party'].shape[0]\n",
    "top_labour_tweeter = after_df[after_df['party'] == 'Labour Party'].twitter_username.value_counts()[0:1].index[0]\n",
    "top_labour_tweet_count = after_df[after_df['party'] == 'Labour Party'].twitter_username.value_counts()[0]\n",
    "\n",
    "print(\"The %s candidates from the Conservative party sent %s root tweets. The top tweeter was %s with %s tweets\" \\\n",
    "      % (conservative_candidates_count, conservative_tweets_count, top_con_tweeter, top_con_tweet_count))\n",
    "\n",
    "print(\"The %s candidates from the Labour party sent %s root tweets. The top tweeter was %s with %s tweets\" \\\n",
    "      % (labour_candidates_count, labour_tweets_count, top_labour_tweeter, top_labour_tweet_count))\n"
   ]
  },
  {
   "cell_type": "code",
   "execution_count": 5,
   "metadata": {},
   "outputs": [
    {
     "data": {
      "text/plain": [
       "'\\n\\n'"
      ]
     },
     "execution_count": 5,
     "metadata": {},
     "output_type": "execute_result"
    }
   ],
   "source": [
    "#####################################\n",
    "# Question 1.2\n",
    "# TA comments below here \n",
    "\n",
    "# ___ / 5. \n",
    "# Comments:\n",
    "'''\n",
    "\n",
    "'''"
   ]
  },
  {
   "cell_type": "code",
   "execution_count": 6,
   "metadata": {},
   "outputs": [
    {
     "data": {
      "text/html": [
       "<div>\n",
       "<style scoped>\n",
       "    .dataframe tbody tr th:only-of-type {\n",
       "        vertical-align: middle;\n",
       "    }\n",
       "\n",
       "    .dataframe tbody tr th {\n",
       "        vertical-align: top;\n",
       "    }\n",
       "\n",
       "    .dataframe thead th {\n",
       "        text-align: right;\n",
       "    }\n",
       "</style>\n",
       "<table border=\"1\" class=\"dataframe\">\n",
       "  <thead>\n",
       "    <tr style=\"text-align: right;\">\n",
       "      <th></th>\n",
       "      <th>name</th>\n",
       "      <th>id</th>\n",
       "      <th>party</th>\n",
       "      <th>constituency</th>\n",
       "      <th>twitter_username</th>\n",
       "      <th>facebook_page_url</th>\n",
       "      <th>party_ppc_page_url</th>\n",
       "      <th>gender</th>\n",
       "      <th>tweet_id</th>\n",
       "      <th>user_id</th>\n",
       "      <th>date</th>\n",
       "      <th>text</th>\n",
       "    </tr>\n",
       "  </thead>\n",
       "  <tbody>\n",
       "    <tr>\n",
       "      <th>0</th>\n",
       "      <td>Duncan Higgitt</td>\n",
       "      <td>5576</td>\n",
       "      <td>Plaid Cymru - The Party of Wales</td>\n",
       "      <td>Aberavon</td>\n",
       "      <td>DuncanHiggitt</td>\n",
       "      <td>https://www.facebook.com/DuncanHiggittforAfan</td>\n",
       "      <td>http://www.partyofwales.org/duncan-higgitt/</td>\n",
       "      <td>male</td>\n",
       "      <td>595468116123090944</td>\n",
       "      <td>329677356</td>\n",
       "      <td>2015-05-05 06:00:36.000000</td>\n",
       "      <td>@leighcanham I do know his work, but it's only...</td>\n",
       "    </tr>\n",
       "  </tbody>\n",
       "</table>\n",
       "</div>"
      ],
      "text/plain": [
       "             name    id                             party constituency  \\\n",
       "0  Duncan Higgitt  5576  Plaid Cymru - The Party of Wales     Aberavon   \n",
       "\n",
       "  twitter_username                              facebook_page_url  \\\n",
       "0    DuncanHiggitt  https://www.facebook.com/DuncanHiggittforAfan   \n",
       "\n",
       "                            party_ppc_page_url gender            tweet_id  \\\n",
       "0  http://www.partyofwales.org/duncan-higgitt/   male  595468116123090944   \n",
       "\n",
       "     user_id                        date  \\\n",
       "0  329677356  2015-05-05 06:00:36.000000   \n",
       "\n",
       "                                                text  \n",
       "0  @leighcanham I do know his work, but it's only...  "
      ]
     },
     "execution_count": 6,
     "metadata": {},
     "output_type": "execute_result"
    }
   ],
   "source": [
    "after_df.head(1)"
   ]
  },
  {
   "cell_type": "markdown",
   "metadata": {},
   "source": [
    "# Exercise 2. An acrostic of tweets. "
   ]
  },
  {
   "cell_type": "code",
   "execution_count": 4,
   "metadata": {},
   "outputs": [
    {
     "name": "stderr",
     "output_type": "stream",
     "text": [
      "/anaconda3/lib/python3.6/site-packages/pandas/core/frame.py:5175: RuntimeWarning: '<' not supported between instances of 'str' and 'int', sort order is undefined for incomparable objects\n",
      "  other.index).difference(self.columns).tolist()\n"
     ]
    },
    {
     "data": {
      "text/html": [
       "<div>\n",
       "<style scoped>\n",
       "    .dataframe tbody tr th:only-of-type {\n",
       "        vertical-align: middle;\n",
       "    }\n",
       "\n",
       "    .dataframe tbody tr th {\n",
       "        vertical-align: top;\n",
       "    }\n",
       "\n",
       "    .dataframe thead th {\n",
       "        text-align: right;\n",
       "    }\n",
       "</style>\n",
       "<table border=\"1\" class=\"dataframe\">\n",
       "  <thead>\n",
       "    <tr style=\"text-align: right;\">\n",
       "      <th></th>\n",
       "      <th>name</th>\n",
       "      <th>id</th>\n",
       "      <th>party</th>\n",
       "      <th>constituency</th>\n",
       "      <th>twitter_username</th>\n",
       "      <th>facebook_page_url</th>\n",
       "      <th>party_ppc_page_url</th>\n",
       "      <th>gender</th>\n",
       "      <th>tweet_id</th>\n",
       "      <th>user_id</th>\n",
       "      <th>date</th>\n",
       "      <th>text</th>\n",
       "      <th>firstword</th>\n",
       "      <th>firstletter</th>\n",
       "      <th>cumulativecount</th>\n",
       "    </tr>\n",
       "  </thead>\n",
       "  <tbody>\n",
       "    <tr>\n",
       "      <th>0</th>\n",
       "      <td>Duncan Higgitt</td>\n",
       "      <td>5576</td>\n",
       "      <td>Plaid Cymru - The Party of Wales</td>\n",
       "      <td>Aberavon</td>\n",
       "      <td>DuncanHiggitt</td>\n",
       "      <td>https://www.facebook.com/DuncanHiggittforAfan</td>\n",
       "      <td>http://www.partyofwales.org/duncan-higgitt/</td>\n",
       "      <td>male</td>\n",
       "      <td>595468116123090944</td>\n",
       "      <td>329677356</td>\n",
       "      <td>2015-05-05 06:00:36.000000</td>\n",
       "      <td>I do know his work but it s only something I ...</td>\n",
       "      <td>Do</td>\n",
       "      <td>D</td>\n",
       "      <td>0</td>\n",
       "    </tr>\n",
       "    <tr>\n",
       "      <th>1</th>\n",
       "      <td>Stephen Kinnock</td>\n",
       "      <td>4252</td>\n",
       "      <td>Labour Party</td>\n",
       "      <td>Aberavon</td>\n",
       "      <td>SKinnock</td>\n",
       "      <td></td>\n",
       "      <td>http://www.labour.org.uk/people/detail/stephen...</td>\n",
       "      <td>male</td>\n",
       "      <td>595608873026899968</td>\n",
       "      <td>722347303</td>\n",
       "      <td>2015-05-05 15:19:55.000000</td>\n",
       "      <td>In Wales the squeezed middle are Port Talbot ...</td>\n",
       "      <td>In</td>\n",
       "      <td>I</td>\n",
       "      <td>0</td>\n",
       "    </tr>\n",
       "    <tr>\n",
       "      <th>2</th>\n",
       "      <td>Stephen Kinnock</td>\n",
       "      <td>4252</td>\n",
       "      <td>Labour Party</td>\n",
       "      <td>Aberavon</td>\n",
       "      <td>SKinnock</td>\n",
       "      <td></td>\n",
       "      <td>http://www.labour.org.uk/people/detail/stephen...</td>\n",
       "      <td>male</td>\n",
       "      <td>595489192177704960</td>\n",
       "      <td>722347303</td>\n",
       "      <td>2015-05-05 07:24:21.000000</td>\n",
       "      <td>Great team out in Margam and Taibach yesterday...</td>\n",
       "      <td>Great</td>\n",
       "      <td>G</td>\n",
       "      <td>0</td>\n",
       "    </tr>\n",
       "    <tr>\n",
       "      <th>3</th>\n",
       "      <td>Stephen Kinnock</td>\n",
       "      <td>4252</td>\n",
       "      <td>Labour Party</td>\n",
       "      <td>Aberavon</td>\n",
       "      <td>SKinnock</td>\n",
       "      <td></td>\n",
       "      <td>http://www.labour.org.uk/people/detail/stephen...</td>\n",
       "      <td>male</td>\n",
       "      <td>595484964759670784</td>\n",
       "      <td>722347303</td>\n",
       "      <td>2015-05-05 07:07:33.000000</td>\n",
       "      <td>Neil Kinnock s son is poised to become an MP ...</td>\n",
       "      <td>Neil</td>\n",
       "      <td>N</td>\n",
       "      <td>0</td>\n",
       "    </tr>\n",
       "    <tr>\n",
       "      <th>4</th>\n",
       "      <td>Guto Bebb</td>\n",
       "      <td>1412</td>\n",
       "      <td>Conservative Party</td>\n",
       "      <td>Aberconwy</td>\n",
       "      <td>GutoBebb</td>\n",
       "      <td></td>\n",
       "      <td>https://www.conservatives.com/OurTeam/Prospect...</td>\n",
       "      <td>male</td>\n",
       "      <td>595590166187761665</td>\n",
       "      <td>474991141</td>\n",
       "      <td>2015-05-05 14:05:35.000000</td>\n",
       "      <td>believe in providing a safety net for those i...</td>\n",
       "      <td>Believe</td>\n",
       "      <td>B</td>\n",
       "      <td>0</td>\n",
       "    </tr>\n",
       "  </tbody>\n",
       "</table>\n",
       "</div>"
      ],
      "text/plain": [
       "              name    id                             party constituency  \\\n",
       "0   Duncan Higgitt  5576  Plaid Cymru - The Party of Wales     Aberavon   \n",
       "1  Stephen Kinnock  4252                      Labour Party     Aberavon   \n",
       "2  Stephen Kinnock  4252                      Labour Party     Aberavon   \n",
       "3  Stephen Kinnock  4252                      Labour Party     Aberavon   \n",
       "4        Guto Bebb  1412                Conservative Party    Aberconwy   \n",
       "\n",
       "  twitter_username                              facebook_page_url  \\\n",
       "0    DuncanHiggitt  https://www.facebook.com/DuncanHiggittforAfan   \n",
       "1         SKinnock                                                  \n",
       "2         SKinnock                                                  \n",
       "3         SKinnock                                                  \n",
       "4         GutoBebb                                                  \n",
       "\n",
       "                                  party_ppc_page_url gender  \\\n",
       "0        http://www.partyofwales.org/duncan-higgitt/   male   \n",
       "1  http://www.labour.org.uk/people/detail/stephen...   male   \n",
       "2  http://www.labour.org.uk/people/detail/stephen...   male   \n",
       "3  http://www.labour.org.uk/people/detail/stephen...   male   \n",
       "4  https://www.conservatives.com/OurTeam/Prospect...   male   \n",
       "\n",
       "             tweet_id    user_id                        date  \\\n",
       "0  595468116123090944  329677356  2015-05-05 06:00:36.000000   \n",
       "1  595608873026899968  722347303  2015-05-05 15:19:55.000000   \n",
       "2  595489192177704960  722347303  2015-05-05 07:24:21.000000   \n",
       "3  595484964759670784  722347303  2015-05-05 07:07:33.000000   \n",
       "4  595590166187761665  474991141  2015-05-05 14:05:35.000000   \n",
       "\n",
       "                                                text firstword firstletter  \\\n",
       "0   I do know his work but it s only something I ...        Do           D   \n",
       "1   In Wales the squeezed middle are Port Talbot ...        In           I   \n",
       "2  Great team out in Margam and Taibach yesterday...     Great           G   \n",
       "3   Neil Kinnock s son is poised to become an MP ...      Neil           N   \n",
       "4   believe in providing a safety net for those i...   Believe           B   \n",
       "\n",
       "   cumulativecount  \n",
       "0                0  \n",
       "1                0  \n",
       "2                0  \n",
       "3                0  \n",
       "4                0  "
      ]
     },
     "execution_count": 4,
     "metadata": {},
     "output_type": "execute_result"
    }
   ],
   "source": [
    "#################################################################\n",
    "#\n",
    "# Perhaps\n",
    "# You'd\n",
    "# Take\n",
    "# Hacking\n",
    "# Over\n",
    "# Nothing?\n",
    "#\n",
    "# See https://en.wikipedia.org/wiki/Acrostic\n",
    "#\n",
    "# Fun Fact! Lewis Carroll's Through the Looking Glass contained a \n",
    "# poem with an acrostic of the full name of the real-life Alice. \n",
    "# \n",
    "#################################################################\n",
    "\n",
    "# This exercise consists of two parts. In the first, you have to\n",
    "# print out an acrostic. You select a codephrase, and then the words that \n",
    "# are printed on each line should come from the tweets database. They do not \n",
    "# have to come from the filtered table unless you want the party affiliation.\n",
    "# \n",
    "# The horizontal words for the acrostic should be the first word of the \n",
    "# tweet. They should also be filtered somehow, such as 'tweets from the  \n",
    "# Liberal Democrat party', 'tweets with a url', or 'tweets that have an \n",
    "# @mention' in them.\n",
    "#\n",
    "# The second part is that you have to then provide a user input prompt\n",
    "# so that a user can see if they can make an acrostic with the same \n",
    "# set of tweets. If they can (i.e. the codephrase's letters are all contained\n",
    "# within the set of tweets), print out the acrostic. Otherwise, let the user \n",
    "# know that the program cannot find an acrostic with that phrase. Ask them to \n",
    "# please try another phrase, or type \"exit()\" to exit. \n",
    "#\n",
    "'''\n",
    "Using tweets that <user defined> I made an acrostic: \n",
    "\n",
    "Tweets \n",
    "Rarely \n",
    "Accommodate\n",
    "Politicians\n",
    "\n",
    "Using the same set of tweets, now you try to make one: \n",
    "[                            ]\n",
    "'''\n",
    "\n",
    "\n",
    "# Notes: \n",
    "# - Each line in the acrostic should be a unique word, even if the codephrase \n",
    "#       has two of the same letter.  \n",
    "# - Your acrostic codephrase has to be longer than 5 characters. \n",
    "# - Dont worry about representing lower/uppper case, spaces, or punctuation in \n",
    "#       your acrostic, but assume that users will try to type that in \n",
    "#       the input box.\n",
    "# - If the user's attempted acrostic codephrase doesn't work\n",
    "#       then it should let the user try again. \n",
    "# - The codephrase should make sense, but I fully expect the word list\n",
    "#       from tweets not to make a lot of sense. \n",
    "# - If you find that the first word doesn't cut it, you can take the first \n",
    "#       'non-tweet' as in the first non-[\"rt\", \"@mention\", \"#hashtag\"]\n",
    "#\n",
    "# hint: df['first_word'] = df[\"text\"].map(lambda x: cleanWord(x))\n",
    "\n",
    "#\n",
    "#\n",
    "# Rubric\n",
    "# 5 pts. Functionality: Does your code work as directed (to test: \n",
    "#             we would enter your codephrase as input)\n",
    "# 5 pts.  Robustness: Will user input break the code? How does it handle junk characters?\n",
    "              \n",
    "# 5 pts.  Code factoring: e.g., how well did you use functions/data strutures \n",
    "#             to help manage your queries?\n",
    "# 5 pts.  Complexity of the filter on the tweets:  A relative / subjective \n",
    "#             assessment based on how you decided to filter and select tweets)\n",
    "\n",
    "######################################\n",
    "# Answer Below Here \n",
    "\n",
    "#### Dataset cleaning ######\n",
    "import re\n",
    "import numpy as np\n",
    "\n",
    "#removing retweets and hashtags: https://stackoverflow.com/questions/26594817/remove-and-rt-from-the-tweet\n",
    "after_df[\"text\"] = after_df[\"text\"].apply(lambda x: re.compile('\\#').sub('', re.compile('RT @+').sub('@', x, count=1).strip()))\n",
    "\n",
    "#removing twitter handles\n",
    "after_df[\"text\"] = after_df[\"text\"].replace(\"(?<=^|(?<=[^a-zA-Z0-9-_\\.]))@([A-Za-z]+[A-Za-z0-9-_]+)\",\"\", regex=True)\n",
    "\n",
    "#keeping only A-Z\n",
    "#after_df[\"text\"] =after_df[\"text\"].apply(lambda x: after_df.text.isalpha())\n",
    "after_df[\"text\"] = after_df[\"text\"].apply(lambda x: re.sub('[^a-zA-Z]+', ' ', x))\n",
    "\n",
    "#removing special characters.\n",
    "after_df[\"text\"] = after_df[\"text\"].map(lambda x: x.lstrip(\":-.()\"))\n",
    "#after_df[\"text\"] = after_df[\"text\"].map(lambda x: x.replace(\":-.()\",\"   \"))\n",
    "\n",
    "#take the first word (should be at least two characters) and first letter.\n",
    "#hint: https://stackoverflow.com/questions/36028932/how-to-extract-specific-content-in-a-pandas-dataframe-with-a-regex\n",
    "after_df[\"firstword\"] = after_df[\"text\"].str.extract(r'(\\w{2,})', expand=False).str.strip()\n",
    "after_df[\"firstword\"] = after_df[\"firstword\"].str.capitalize()\n",
    "after_df[\"firstletter\"] = after_df[\"firstword\"].str[0]\n",
    "\n",
    "# #ensure that there are no duplicate words.\n",
    "after_df = after_df.drop_duplicates(subset=\"firstword\")  \n",
    "after_df.firstletter.value_counts()\n",
    "\n",
    "#I added a row that will show space.\n",
    "after_df.append(pd.Series([np.nan]), ignore_index = True)\n",
    "after_df = after_df.fillna(' ')\n",
    "\n",
    "### cumulative counts\n",
    "after_df[\"cumulativecount\"]= after_df.groupby(\"firstletter\").cumcount()\n",
    "after_df.head()"
   ]
  },
  {
   "cell_type": "code",
   "execution_count": 5,
   "metadata": {},
   "outputs": [
    {
     "name": "stdout",
     "output_type": "stream",
     "text": [
      "*************** ACROSTIC ****************** \n",
      "\n",
      "Using tweets by: \n",
      "Labour Party\n",
      "Green Party\n",
      "The Respect Party\n",
      "SDLP (Social Democratic & Labour Party)\n",
      "\n",
      "I made an acrostic: \n",
      "\n",
      "J- Just\n",
      "A- Always\n",
      "P- Pray\n",
      "A- At\n",
      "N- Night\n",
      "\n",
      "Your turn! \n",
      "\n"
     ]
    },
    {
     "name": "stdin",
     "output_type": "stream",
     "text": [
      "Word please? testing\n"
     ]
    },
    {
     "name": "stdout",
     "output_type": "stream",
     "text": [
      "T   Thelincolnite\n",
      "E   Ellesmereport\n",
      "S   Somerset\n",
      "T   Tusc\n",
      "I   Infrastructre\n",
      "N   North\n",
      "G   Grn\n"
     ]
    }
   ],
   "source": [
    "##### Start the program #######\n",
    "import random\n",
    "import sys\n",
    "from collections import defaultdict\n",
    "\n",
    "print(\"*************** ACROSTIC ****************** \\n\")\n",
    "\n",
    "partylist = ['Labour Party', 'Green Party', 'The Respect Party', 'SDLP (Social Democratic & Labour Party)' ]\n",
    "filteredtweets = after_df[after_df.party.isin(partylist)] \n",
    "\n",
    "print(\"Using tweets by: \", *partylist, sep=\"\\n\")\n",
    "print()\n",
    "print(\"I made an acrostic: \\n\")\n",
    "\n",
    "print(\"J-\", filteredtweets[filteredtweets.firstletter == \"J\"].firstword.iloc[0])\n",
    "print(\"A-\",filteredtweets[filteredtweets.firstletter == \"A\"].firstword.iloc[8])\n",
    "print(\"P-\",filteredtweets[filteredtweets.firstletter == \"P\"].firstword.iloc[20])\n",
    "print(\"A-\",filteredtweets[filteredtweets.firstletter == \"A\"].firstword.iloc[29])\n",
    "print(\"N-\",filteredtweets[filteredtweets.firstletter == \"N\"].firstword.iloc[23])\n",
    "\n",
    "print()\n",
    "print(\"Your turn! \\n\")\n",
    "\n",
    "while True:\n",
    "    a = input(\"Word please?\")\n",
    "    a = a.upper()\n",
    "    adic = defaultdict(list)\n",
    "    try: \n",
    "        if a == \"EXIT()\":\n",
    "            print(\"Thank you for your time. Good bye!\")\n",
    "            break\n",
    "        elif a.isnumeric():\n",
    "            print (\"Your input is numeric. Please input a word. \\n\")\n",
    "            print (\"If you would like to quit, please type \\\"exit()\\\". \\n\")\n",
    "        elif len(a) > 4: \n",
    "            for i in range(len(a)):\n",
    "                key = a[i]\n",
    "                numlist = list(after_df[after_df['firstletter'] == a[i]].cumulativecount)\n",
    "                np.random.shuffle(numlist)\n",
    "                pick = numlist.pop() #removes the last value from the list of randomly shuffled numbers.   \n",
    "                while pick in adic[a[i]]:\n",
    "                    pick = numlist.pop()\n",
    "                adic[a[i]].append(pick) \n",
    "                lookup = pd.DataFrame([key, pick], index=['firstletter', 'cumulativecount']).T\n",
    "                #merge\n",
    "                lookup = lookup.set_index(['firstletter', 'cumulativecount']).join(after_df.set_index(['firstletter', 'cumulativecount']))\n",
    "                #inspect duplicates\n",
    "                #inspect = inspect.append(lookup)\n",
    "                print(a[i],\" \", lookup.firstword[0])\n",
    "            break\n",
    "        else:\n",
    "            print(\"Please print a codephrase that is longer than 5 characters. Try again \\n\")\n",
    "            print (\"You can quit at any time by typing \\\"exit()\\\". \\n\")\n",
    "    except: \n",
    "        print(\"There are not enough unique words/spaces to form an acrostic. Try again \\n\")\n",
    "\n",
    "#hint:https://stackoverflow.com/questions/38291908/excel-vlookup-equivalent-in-pandas"
   ]
  },
  {
   "cell_type": "code",
   "execution_count": 6,
   "metadata": {},
   "outputs": [
    {
     "data": {
      "text/plain": [
       "defaultdict(list,\n",
       "            {'E': [73],\n",
       "             'G': [77],\n",
       "             'I': [45],\n",
       "             'N': [55],\n",
       "             'S': [261],\n",
       "             'T': [132, 72]})"
      ]
     },
     "execution_count": 6,
     "metadata": {},
     "output_type": "execute_result"
    }
   ],
   "source": [
    "adic"
   ]
  },
  {
   "cell_type": "code",
   "execution_count": 7,
   "metadata": {},
   "outputs": [
    {
     "data": {
      "text/plain": [
       "S    288\n",
       "C    214\n",
       "P    203\n",
       "T    187\n",
       "A    181\n",
       "D    172\n",
       "B    163\n",
       "H    159\n",
       "M    153\n",
       "F    146\n",
       "R    139\n",
       "E    134\n",
       "L    134\n",
       "W    133\n",
       "G    108\n",
       "N     95\n",
       "I     90\n",
       "O     75\n",
       "J     61\n",
       "V     57\n",
       "U     51\n",
       "Y     41\n",
       "K     32\n",
       "Q     13\n",
       "Z      5\n",
       "X      3\n",
       "       1\n",
       "Name: firstletter, dtype: int64"
      ]
     },
     "execution_count": 7,
     "metadata": {},
     "output_type": "execute_result"
    }
   ],
   "source": [
    "after_df.firstletter.value_counts()"
   ]
  },
  {
   "cell_type": "code",
   "execution_count": null,
   "metadata": {},
   "outputs": [],
   "source": []
  },
  {
   "cell_type": "code",
   "execution_count": 11,
   "metadata": {},
   "outputs": [
    {
     "data": {
      "text/plain": [
       "'\\n\\n'"
      ]
     },
     "execution_count": 11,
     "metadata": {},
     "output_type": "execute_result"
    }
   ],
   "source": [
    "#####################################\n",
    "# TA comments below here \n",
    "\n",
    "# Functionality: \n",
    "# ___ / 5. \n",
    "# Comments \n",
    "'''\n",
    "\n",
    "'''\n",
    "\n",
    "# Robustness: \n",
    "# ___ / 5. \n",
    "# Comments \n",
    "'''\n",
    "\n",
    "'''\n",
    "\n",
    "# Code Factoring: \n",
    "# ___ / 5. \n",
    "# Comments \n",
    "'''\n",
    "\n",
    "'''\n",
    "\n",
    "# Filter Complexity: \n",
    "# ___ / 5. \n",
    "# Comments \n",
    "'''\n",
    "\n",
    "'''"
   ]
  },
  {
   "cell_type": "code",
   "execution_count": null,
   "metadata": {},
   "outputs": [],
   "source": []
  },
  {
   "cell_type": "code",
   "execution_count": 12,
   "metadata": {},
   "outputs": [
    {
     "name": "stdout",
     "output_type": "stream",
     "text": [
      "[0, 1, 2, 3, 4, 5, 6, 7, 8, 9, 10, 11, 12, 13, 14, 15, 16, 17, 18, 19, 20, 21, 22, 23, 24, 25, 26, 27, 28, 29, 30, 31, 32, 33, 34, 35, 36, 37, 38, 39, 40, 41, 42, 43, 44, 45, 46, 47, 48, 49, 50, 51, 52, 53, 54, 55, 56, 57, 58, 59, 60, 61, 62, 63, 64, 65, 66, 67, 68, 69, 70, 71, 72, 73, 74, 75, 76, 77, 78, 79, 80, 81, 82, 83, 84, 85, 86, 87, 88, 89, 90, 91, 92, 93, 94, 95, 96, 97, 98, 99, 100, 101, 102, 103, 104, 105, 106, 107]\n"
     ]
    }
   ],
   "source": [
    "print(list(after_df[after_df['firstletter'] == \"G\"].cumulativecount))"
   ]
  },
  {
   "cell_type": "code",
   "execution_count": null,
   "metadata": {},
   "outputs": [],
   "source": []
  },
  {
   "cell_type": "code",
   "execution_count": null,
   "metadata": {},
   "outputs": [],
   "source": []
  },
  {
   "cell_type": "code",
   "execution_count": null,
   "metadata": {},
   "outputs": [],
   "source": []
  },
  {
   "cell_type": "code",
   "execution_count": null,
   "metadata": {},
   "outputs": [],
   "source": []
  },
  {
   "cell_type": "code",
   "execution_count": null,
   "metadata": {},
   "outputs": [],
   "source": []
  },
  {
   "cell_type": "code",
   "execution_count": null,
   "metadata": {},
   "outputs": [],
   "source": []
  },
  {
   "cell_type": "code",
   "execution_count": null,
   "metadata": {},
   "outputs": [],
   "source": []
  }
 ],
 "metadata": {
  "kernelspec": {
   "display_name": "Python 3",
   "language": "python",
   "name": "python3"
  },
  "language_info": {
   "codemirror_mode": {
    "name": "ipython",
    "version": 3
   },
   "file_extension": ".py",
   "mimetype": "text/x-python",
   "name": "python",
   "nbconvert_exporter": "python",
   "pygments_lexer": "ipython3",
   "version": "3.6.4"
  }
 },
 "nbformat": 4,
 "nbformat_minor": 2
}
